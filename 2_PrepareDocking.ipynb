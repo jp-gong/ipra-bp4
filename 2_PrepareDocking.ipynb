{
 "cells": [
  {
   "cell_type": "code",
   "execution_count": 2,
   "id": "73da0d22",
   "metadata": {},
   "outputs": [],
   "source": [
    "import os\n",
    "import pandas as pd"
   ]
  },
  {
   "cell_type": "code",
   "execution_count": 3,
   "id": "4b22babb",
   "metadata": {},
   "outputs": [],
   "source": [
    "file_path = os.path.join(\"data\", \"StandardizedTox21Results.xlsx\")\n",
    "df = pd.read_excel(file_path)"
   ]
  },
  {
   "cell_type": "code",
   "execution_count": 4,
   "id": "f67299d7",
   "metadata": {},
   "outputs": [],
   "source": [
    "# 3. Assign ligand codes: lig0001, lig0002, ...\n",
    "df = df.reset_index(drop=True)\n",
    "df[\"LigandCode\"] = df.index + 1\n",
    "df[\"LigandCode\"] = df[\"LigandCode\"].apply(lambda i: f\"lig{i:04d}\")"
   ]
  },
  {
   "cell_type": "code",
   "execution_count": 5,
   "id": "9a6e0029",
   "metadata": {},
   "outputs": [
    {
     "data": {
      "text/plain": [
       "0.10    122.16900\n",
       "0.25    162.22900\n",
       "0.50    232.30500\n",
       "0.75    330.46875\n",
       "0.90    424.46800\n",
       "Name: MolWt, dtype: float64"
      ]
     },
     "execution_count": 5,
     "metadata": {},
     "output_type": "execute_result"
    }
   ],
   "source": [
    "from rdkit import Chem\n",
    "from rdkit.Chem import Descriptors\n",
    "\n",
    "df[\"MolWt\"] = df[\"std_SMILES\"].apply(lambda x: Descriptors.MolWt(Chem.MolFromSmiles(x)))\n",
    "df[\"MolWt\"].quantile( [0.1, 0.25, 0.5, 0.75, 0.9] )"
   ]
  },
  {
   "cell_type": "code",
   "execution_count": 6,
   "id": "1b74369b",
   "metadata": {},
   "outputs": [],
   "source": [
    "# get 0.1 and 0.9 quantile\n",
    "lower_bound = df[\"MolWt\"].quantile(0.1)\n",
    "upper_bound = df[\"MolWt\"].quantile(0.9)"
   ]
  },
  {
   "cell_type": "code",
   "execution_count": 8,
   "id": "01ac5f42",
   "metadata": {},
   "outputs": [
    {
     "name": "stdout",
     "output_type": "stream",
     "text": [
      "Wrote 6028 entries to AutodockGPU/ligands.smi\n",
      "Wrote entries to AutodockGPU/LigandInfo.xlsx\n"
     ]
    }
   ],
   "source": [
    "out_dir = \"AutodockGPU\"\n",
    "\n",
    "os.makedirs(out_dir, exist_ok=True)\n",
    "\n",
    "# 5. Write ligands.smi: each line = \"<SMILES> <LigandCode>\"\n",
    "smi_path = os.path.join(out_dir, \"ligands.smi\")\n",
    "\n",
    "n_entries = 0\n",
    "with open(smi_path, \"w\") as fh:\n",
    "    for _, row in df.iterrows():\n",
    "        \n",
    "        if row[\"MolWt\"] < lower_bound or row[\"MolWt\"] > upper_bound:\n",
    "            continue\n",
    "        \n",
    "        smi = row[\"std_SMILES\"]\n",
    "        code = row[\"LigandCode\"]\n",
    "        fh.write(f\"{smi} {code}\\n\")\n",
    "        \n",
    "        n_entries += 1\n",
    "        \n",
    "print(f\"Wrote {n_entries} entries to {smi_path}\")\n",
    "\n",
    "# 6. Write out the ligand info Excel with the new code column\n",
    "info_path = os.path.join(out_dir, \"LigandInfo.xlsx\")\n",
    "df.to_excel(info_path, index=False)\n",
    "\n",
    "print(f\"Wrote entries to {info_path}\")"
   ]
  },
  {
   "cell_type": "markdown",
   "id": "35ef7b69",
   "metadata": {},
   "source": [
    "- among 6,028 ligands, 6,022 ligands are written as `.pdbqt`."
   ]
  }
 ],
 "metadata": {
  "kernelspec": {
   "display_name": "cheminfo",
   "language": "python",
   "name": "python3"
  },
  "language_info": {
   "codemirror_mode": {
    "name": "ipython",
    "version": 3
   },
   "file_extension": ".py",
   "mimetype": "text/x-python",
   "name": "python",
   "nbconvert_exporter": "python",
   "pygments_lexer": "ipython3",
   "version": "3.10.16"
  }
 },
 "nbformat": 4,
 "nbformat_minor": 5
}
